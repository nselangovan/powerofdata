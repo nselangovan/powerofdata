{
 "cells": [
  {
   "cell_type": "markdown",
   "id": "4448c1e3",
   "metadata": {},
   "source": [
    "import pandas as pd\n",
    "import numpy as np\n",
    "import matplotlib.pyplot as plt \n",
    "import datetime\n",
    "import sqlite3\n",
    "dat = sqlite3.connect('ds22_guvi_task5_elan.db')"
   ]
  },
  {
   "cell_type": "code",
   "execution_count": null,
   "id": "36ad8624",
   "metadata": {},
   "outputs": [],
   "source": [
    "\"\"\"Defining an \"adopted user\" as a user who has logged into the product on three separate\n",
    "days in at least one sevenday period , identify which factors predict future user adoption .\n",
    "\n",
    "As per my understanding there are different way to find the consecutive login attempt on user for visit.\n",
    "Problem statement vs solution:\n",
    "1)\tFind the  user id from the “takehome_user_engagement” against the visit and timestamp\n",
    "2)\tConvert time_stamp in to date column.so that, it will give the year , Month and Week split.\n",
    "a.\tYear \n",
    "b.\tMonth \n",
    "c.\tWeek\n",
    "Group these column along with user id and visit.\n",
    "There are again 2 things can be done \n",
    "1)\tEach Week how many hits (this approach has been taken)\n",
    "2)\tOr find the min or max of the visit and find the every 7 days visit count and store in Dataframe\n",
    "3)\tFind the count against the user id , Org_id when visit per week is more then or equals to Three(3).\n",
    "4)\tFind the count against the user id when visit per week is more then or equals to Three(3).\n",
    "5)\tFind the count against the Org_id when visit per week is more then or equals to Three(3).\n",
    "6)\tFind the source of the signup count from above with Join\n",
    "\n",
    "Data Clean/load steps.\n",
    "1)\tCreate DF1 with Csv1(takehome_users)\n",
    "2)\tCreate DF2 with Csv1(takehome_user_engagement)\n",
    "3)\tJoin these two table using object_id , user_id and convert date column as per dataframe date columns\n",
    "4)\tGroup by those column and find the count / size .\n",
    "5)\tDraw the chart\n",
    "\n",
    "1)\tFind which User who login most \n",
    "2)\tOr find the Org who has active visit and it includes more users \n",
    "3)\tFind the source of the signup \n",
    "\"\"\""
   ]
  },
  {
   "cell_type": "code",
   "execution_count": 14,
   "id": "c44a427d",
   "metadata": {},
   "outputs": [],
   "source": [
    "df1 = pd.read_csv(\"takehome_users.csv\" ,encoding='ISO-8859-1')\n",
    "df1.rename(columns = {'object_id':'user_id'}, inplace = True)\n",
    "\n",
    "#df1.to_sql(name='T1', con=dat)\n",
    "\n",
    "df2 = pd.read_csv(\"takehome_user_engagement.csv\" ,encoding='ascii' , parse_dates =['time_stamp'])\n",
    "\n",
    "#df2.to_sql(name='T2', con=dat)"
   ]
  },
  {
   "cell_type": "code",
   "execution_count": 7,
   "id": "b176791e",
   "metadata": {},
   "outputs": [
    {
     "name": "stdout",
     "output_type": "stream",
     "text": [
      "<class 'pandas.core.frame.DataFrame'>\n",
      "RangeIndex: 12000 entries, 0 to 11999\n",
      "Data columns (total 10 columns):\n",
      " #   Column                      Non-Null Count  Dtype  \n",
      "---  ------                      --------------  -----  \n",
      " 0   user_id                     12000 non-null  int64  \n",
      " 1   creation_time               12000 non-null  object \n",
      " 2   name                        12000 non-null  object \n",
      " 3   email                       12000 non-null  object \n",
      " 4   creation_source             12000 non-null  object \n",
      " 5   last_session_creation_time  8823 non-null   float64\n",
      " 6   opted_in_to_mailing_list    12000 non-null  int64  \n",
      " 7   enabled_for_marketing_drip  12000 non-null  int64  \n",
      " 8   org_id                      12000 non-null  int64  \n",
      " 9   invited_by_user_id          6417 non-null   float64\n",
      "dtypes: float64(2), int64(4), object(4)\n",
      "memory usage: 937.6+ KB\n"
     ]
    }
   ],
   "source": [
    "df1.info()"
   ]
  },
  {
   "cell_type": "code",
   "execution_count": 15,
   "id": "56d6ecd4",
   "metadata": {},
   "outputs": [],
   "source": [
    "#pre =pd.merge(df1,df2,on='inner')\n",
    "check_val = pd.merge(df1, df2, on='user_id')\n",
    "\n",
    "# check_val = pd.merge(df1, df2, left_on='object_id' , right_on='user_id')\n",
    "# left_on , right_on \n",
    "# "
   ]
  },
  {
   "cell_type": "code",
   "execution_count": 16,
   "id": "2b54f9ce",
   "metadata": {},
   "outputs": [
    {
     "name": "stdout",
     "output_type": "stream",
     "text": [
      "<class 'pandas.core.frame.DataFrame'>\n",
      "Int64Index: 207917 entries, 0 to 207916\n",
      "Data columns (total 12 columns):\n",
      " #   Column                      Non-Null Count   Dtype         \n",
      "---  ------                      --------------   -----         \n",
      " 0   user_id                     207917 non-null  int64         \n",
      " 1   creation_time               207917 non-null  object        \n",
      " 2   name                        207917 non-null  object        \n",
      " 3   email                       207917 non-null  object        \n",
      " 4   creation_source             207917 non-null  object        \n",
      " 5   last_session_creation_time  207917 non-null  float64       \n",
      " 6   opted_in_to_mailing_list    207917 non-null  int64         \n",
      " 7   enabled_for_marketing_drip  207917 non-null  int64         \n",
      " 8   org_id                      207917 non-null  int64         \n",
      " 9   invited_by_user_id          116887 non-null  float64       \n",
      " 10  time_stamp                  207917 non-null  datetime64[ns]\n",
      " 11  visited                     207917 non-null  int64         \n",
      "dtypes: datetime64[ns](1), float64(2), int64(5), object(4)\n",
      "memory usage: 20.6+ MB\n"
     ]
    }
   ],
   "source": [
    "check_val.info()"
   ]
  },
  {
   "cell_type": "code",
   "execution_count": 24,
   "id": "fa4a4cf7",
   "metadata": {},
   "outputs": [
    {
     "data": {
      "text/plain": [
       "207917"
      ]
     },
     "execution_count": 24,
     "metadata": {},
     "output_type": "execute_result"
    }
   ],
   "source": [
    "#check_val.to_sql(name='T3', con=dat)"
   ]
  },
  {
   "cell_type": "code",
   "execution_count": 27,
   "id": "d93de834",
   "metadata": {},
   "outputs": [],
   "source": [
    "\"\"\"\n",
    "a = []\n",
    "c = dat.cursor()\n",
    "c.execute(\"select count(1) from T1 \") \n",
    "for i in c.fetchall():\n",
    "   a.append(str(i))\n",
    "c = dat.cursor()\n",
    "c.execute(\"CREATE TABLE T4(time_stamp date,user_id integer,visited integer) \")\n",
    "#c = dat.cursor()\n",
    "c.execute(\"insert into T4 select cast(time_stamp as date) time_stamp, user_id , visited from T2\")\n",
    "#c.execute(\"DROP TABLE T4\") \n",
    "\n",
    "query = dat.execute(\"SELECT * From T4\")\n",
    "cols = [column[0] for column in query.description]\n",
    "results= pd.DataFrame.from_records(data = query.fetchall(), columns = cols)\n",
    "results\n",
    "\"\"\"\n",
    "\n",
    "#query = dat.execute(ex1)\n",
    "#cols = [column[0] for column in query.description]\n",
    "#results= pd.DataFrame.from_records(data = query.fetchall(), columns = cols)\n",
    "\n",
    "'''\n",
    "t = '2018-09-19'\n",
    "t = np.datetime64(t)\n",
    "day = t.astype(datetime.datetime).is\n",
    "print (day)\n",
    "'''\n"
   ]
  },
  {
   "cell_type": "code",
   "execution_count": 17,
   "id": "99bca141",
   "metadata": {},
   "outputs": [],
   "source": [
    "# check_val['dt'] = np.datetime64(check_val ['time_stamp'])\n",
    "check_val['date'] = check_val['time_stamp'].astype('datetime64')\n",
    "# check_val['wk'] = check_val['date'].dt.week\n",
    "check_val['wk'] = check_val['date'].dt.isocalendar().week\n",
    "check_val['yr'] = check_val['date'].dt.isocalendar().year\n",
    "check_val['mn'] = check_val['date'].dt.month"
   ]
  },
  {
   "cell_type": "code",
   "execution_count": 22,
   "id": "117c0a38",
   "metadata": {},
   "outputs": [
    {
     "name": "stdout",
     "output_type": "stream",
     "text": [
      "<class 'pandas.core.frame.DataFrame'>\n",
      "Int64Index: 207917 entries, 0 to 207916\n",
      "Data columns (total 13 columns):\n",
      " #   Column                      Non-Null Count   Dtype         \n",
      "---  ------                      --------------   -----         \n",
      " 0   user_id                     207917 non-null  int64         \n",
      " 1   creation_time               207917 non-null  object        \n",
      " 2   name                        207917 non-null  object        \n",
      " 3   email                       207917 non-null  object        \n",
      " 4   creation_source             207917 non-null  object        \n",
      " 5   last_session_creation_time  207917 non-null  float64       \n",
      " 6   opted_in_to_mailing_list    207917 non-null  int64         \n",
      " 7   enabled_for_marketing_drip  207917 non-null  int64         \n",
      " 8   org_id                      207917 non-null  int64         \n",
      " 9   invited_by_user_id          116887 non-null  float64       \n",
      " 10  time_stamp                  207917 non-null  object        \n",
      " 11  visited                     207917 non-null  int64         \n",
      " 12  date                        207917 non-null  datetime64[ns]\n",
      "dtypes: datetime64[ns](1), float64(2), int64(5), object(5)\n",
      "memory usage: 22.2+ MB\n"
     ]
    }
   ],
   "source": [
    "#check_val.info()\n",
    "#check_val.count()\n",
    "#check_val.describe()"
   ]
  },
  {
   "cell_type": "code",
   "execution_count": 44,
   "id": "3af214fc",
   "metadata": {},
   "outputs": [],
   "source": [
    "#c=check_val.groupby(by=['user_id','yr' , 'wk' , 'visited'], as_index=False).count()\n",
    "# a = check_val.groupby('user_id','yr' , 'wk','visited' )['visited'].count()"
   ]
  },
  {
   "cell_type": "code",
   "execution_count": 40,
   "id": "7031ea92",
   "metadata": {},
   "outputs": [],
   "source": [
    "count_series = check_val.groupby(['user_id','org_id','yr' ,'mn', 'wk' , 'visited']).size()"
   ]
  },
  {
   "cell_type": "code",
   "execution_count": 41,
   "id": "19e3de24",
   "metadata": {},
   "outputs": [
    {
     "data": {
      "text/html": [
       "<div>\n",
       "<style scoped>\n",
       "    .dataframe tbody tr th:only-of-type {\n",
       "        vertical-align: middle;\n",
       "    }\n",
       "\n",
       "    .dataframe tbody tr th {\n",
       "        vertical-align: top;\n",
       "    }\n",
       "\n",
       "    .dataframe thead th {\n",
       "        text-align: right;\n",
       "    }\n",
       "</style>\n",
       "<table border=\"1\" class=\"dataframe\">\n",
       "  <thead>\n",
       "    <tr style=\"text-align: right;\">\n",
       "      <th></th>\n",
       "      <th>user_id</th>\n",
       "      <th>org_id</th>\n",
       "      <th>yr</th>\n",
       "      <th>mn</th>\n",
       "      <th>wk</th>\n",
       "      <th>visited</th>\n",
       "      <th>size</th>\n",
       "    </tr>\n",
       "  </thead>\n",
       "  <tbody>\n",
       "    <tr>\n",
       "      <th>0</th>\n",
       "      <td>1</td>\n",
       "      <td>11</td>\n",
       "      <td>2014</td>\n",
       "      <td>4</td>\n",
       "      <td>17</td>\n",
       "      <td>1</td>\n",
       "      <td>1</td>\n",
       "    </tr>\n",
       "    <tr>\n",
       "      <th>1</th>\n",
       "      <td>2</td>\n",
       "      <td>1</td>\n",
       "      <td>2013</td>\n",
       "      <td>11</td>\n",
       "      <td>46</td>\n",
       "      <td>1</td>\n",
       "      <td>1</td>\n",
       "    </tr>\n",
       "    <tr>\n",
       "      <th>2</th>\n",
       "      <td>2</td>\n",
       "      <td>1</td>\n",
       "      <td>2013</td>\n",
       "      <td>11</td>\n",
       "      <td>48</td>\n",
       "      <td>1</td>\n",
       "      <td>1</td>\n",
       "    </tr>\n",
       "    <tr>\n",
       "      <th>3</th>\n",
       "      <td>2</td>\n",
       "      <td>1</td>\n",
       "      <td>2013</td>\n",
       "      <td>12</td>\n",
       "      <td>50</td>\n",
       "      <td>1</td>\n",
       "      <td>1</td>\n",
       "    </tr>\n",
       "    <tr>\n",
       "      <th>4</th>\n",
       "      <td>2</td>\n",
       "      <td>1</td>\n",
       "      <td>2013</td>\n",
       "      <td>12</td>\n",
       "      <td>52</td>\n",
       "      <td>1</td>\n",
       "      <td>1</td>\n",
       "    </tr>\n",
       "    <tr>\n",
       "      <th>...</th>\n",
       "      <td>...</td>\n",
       "      <td>...</td>\n",
       "      <td>...</td>\n",
       "      <td>...</td>\n",
       "      <td>...</td>\n",
       "      <td>...</td>\n",
       "      <td>...</td>\n",
       "    </tr>\n",
       "    <tr>\n",
       "      <th>75928</th>\n",
       "      <td>11996</td>\n",
       "      <td>89</td>\n",
       "      <td>2013</td>\n",
       "      <td>9</td>\n",
       "      <td>36</td>\n",
       "      <td>1</td>\n",
       "      <td>1</td>\n",
       "    </tr>\n",
       "    <tr>\n",
       "      <th>75929</th>\n",
       "      <td>11997</td>\n",
       "      <td>200</td>\n",
       "      <td>2013</td>\n",
       "      <td>1</td>\n",
       "      <td>3</td>\n",
       "      <td>1</td>\n",
       "      <td>1</td>\n",
       "    </tr>\n",
       "    <tr>\n",
       "      <th>75930</th>\n",
       "      <td>11998</td>\n",
       "      <td>83</td>\n",
       "      <td>2014</td>\n",
       "      <td>4</td>\n",
       "      <td>17</td>\n",
       "      <td>1</td>\n",
       "      <td>1</td>\n",
       "    </tr>\n",
       "    <tr>\n",
       "      <th>75931</th>\n",
       "      <td>11999</td>\n",
       "      <td>6</td>\n",
       "      <td>2012</td>\n",
       "      <td>6</td>\n",
       "      <td>22</td>\n",
       "      <td>1</td>\n",
       "      <td>1</td>\n",
       "    </tr>\n",
       "    <tr>\n",
       "      <th>75932</th>\n",
       "      <td>12000</td>\n",
       "      <td>0</td>\n",
       "      <td>2014</td>\n",
       "      <td>1</td>\n",
       "      <td>4</td>\n",
       "      <td>1</td>\n",
       "      <td>1</td>\n",
       "    </tr>\n",
       "  </tbody>\n",
       "</table>\n",
       "<p>75933 rows × 7 columns</p>\n",
       "</div>"
      ],
      "text/plain": [
       "       user_id  org_id    yr  mn  wk  visited  size\n",
       "0            1      11  2014   4  17        1     1\n",
       "1            2       1  2013  11  46        1     1\n",
       "2            2       1  2013  11  48        1     1\n",
       "3            2       1  2013  12  50        1     1\n",
       "4            2       1  2013  12  52        1     1\n",
       "...        ...     ...   ...  ..  ..      ...   ...\n",
       "75928    11996      89  2013   9  36        1     1\n",
       "75929    11997     200  2013   1   3        1     1\n",
       "75930    11998      83  2014   4  17        1     1\n",
       "75931    11999       6  2012   6  22        1     1\n",
       "75932    12000       0  2014   1   4        1     1\n",
       "\n",
       "[75933 rows x 7 columns]"
      ]
     },
     "execution_count": 41,
     "metadata": {},
     "output_type": "execute_result"
    }
   ],
   "source": [
    "new_df = count_series.to_frame(name = 'size').reset_index()\n",
    "new_df"
   ]
  },
  {
   "cell_type": "code",
   "execution_count": 42,
   "id": "8d392be4",
   "metadata": {},
   "outputs": [],
   "source": [
    "new_df_1 = new_df[new_df['size'] >= 3]"
   ]
  },
  {
   "cell_type": "code",
   "execution_count": 45,
   "id": "c9388288",
   "metadata": {},
   "outputs": [
    {
     "name": "stdout",
     "output_type": "stream",
     "text": [
      "<class 'pandas.core.frame.DataFrame'>\n",
      "Int64Index: 32754 entries, 6 to 75916\n",
      "Data columns (total 7 columns):\n",
      " #   Column   Non-Null Count  Dtype \n",
      "---  ------   --------------  ----- \n",
      " 0   user_id  32754 non-null  int64 \n",
      " 1   org_id   32754 non-null  int64 \n",
      " 2   yr       32754 non-null  UInt32\n",
      " 3   mn       32754 non-null  int64 \n",
      " 4   wk       32754 non-null  UInt32\n",
      " 5   visited  32754 non-null  int64 \n",
      " 6   cnt      32754 non-null  int64 \n",
      "dtypes: UInt32(2), int64(5)\n",
      "memory usage: 1.8 MB\n",
      "<class 'pandas.core.frame.DataFrame'>\n",
      "Int64Index: 32754 entries, 6 to 75916\n",
      "Data columns (total 7 columns):\n",
      " #   Column   Non-Null Count  Dtype \n",
      "---  ------   --------------  ----- \n",
      " 0   user_id  32754 non-null  int64 \n",
      " 1   org_id   32754 non-null  int64 \n",
      " 2   yr       32754 non-null  UInt32\n",
      " 3   mn       32754 non-null  int64 \n",
      " 4   wk       32754 non-null  UInt32\n",
      " 5   visited  32754 non-null  int64 \n",
      " 6   cnt      32754 non-null  int64 \n",
      "dtypes: UInt32(2), int64(5)\n",
      "memory usage: 1.8 MB\n"
     ]
    }
   ],
   "source": [
    "new_df_1.info()\n",
    "new_df_1.rename(columns = {'size':'cnt'}, inplace = True)\n",
    "new_df_1.info()"
   ]
  },
  {
   "cell_type": "code",
   "execution_count": 8,
   "id": "514394bf",
   "metadata": {},
   "outputs": [],
   "source": [
    "# new_df_1[ (new_df_1['user_id'] == 1027) & (new_df_1['wk'] == 1) & (new_df_1['yr'] == 2013) ]\n",
    "# check_val[ (check_val['user_id'] == 1027) & (check_val['wk'] == 1) & (check_val['yr'] == 2013) ]"
   ]
  },
  {
   "cell_type": "code",
   "execution_count": 29,
   "id": "7f097e7b",
   "metadata": {},
   "outputs": [
    {
     "name": "stdout",
     "output_type": "stream",
     "text": [
      "<class 'pandas.core.frame.DataFrame'>\n",
      "RangeIndex: 207917 entries, 0 to 207916\n",
      "Data columns (total 3 columns):\n",
      " #   Column      Non-Null Count   Dtype         \n",
      "---  ------      --------------   -----         \n",
      " 0   time_stamp  207917 non-null  datetime64[ns]\n",
      " 1   user_id     207917 non-null  int64         \n",
      " 2   visited     207917 non-null  int64         \n",
      "dtypes: datetime64[ns](1), int64(2)\n",
      "memory usage: 4.8 MB\n"
     ]
    }
   ],
   "source": [
    "df2.info()\n",
    "#df2['wk'] = df2['time_stamp'].dt.isocalendar().week\n",
    "#df2['yr'] = df2['time_stamp'].dt.isocalendar().year\n",
    "#df2['mn'] = df2['time_stamp'].dt.month\n",
    "#df2\n",
    "# df2[ (df2['user_id'] == 1027) & (df2['wk'] <= 1) & (df2['yr'] == 2013) ]"
   ]
  },
  {
   "cell_type": "code",
   "execution_count": 48,
   "id": "c202549f",
   "metadata": {},
   "outputs": [
    {
     "data": {
      "text/html": [
       "<div>\n",
       "<style scoped>\n",
       "    .dataframe tbody tr th:only-of-type {\n",
       "        vertical-align: middle;\n",
       "    }\n",
       "\n",
       "    .dataframe tbody tr th {\n",
       "        vertical-align: top;\n",
       "    }\n",
       "\n",
       "    .dataframe thead th {\n",
       "        text-align: right;\n",
       "    }\n",
       "</style>\n",
       "<table border=\"1\" class=\"dataframe\">\n",
       "  <thead>\n",
       "    <tr style=\"text-align: right;\">\n",
       "      <th></th>\n",
       "      <th>user_id</th>\n",
       "      <th>org_id</th>\n",
       "      <th>cnt</th>\n",
       "    </tr>\n",
       "  </thead>\n",
       "  <tbody>\n",
       "    <tr>\n",
       "      <th>0</th>\n",
       "      <td>2</td>\n",
       "      <td>1</td>\n",
       "      <td>1</td>\n",
       "    </tr>\n",
       "    <tr>\n",
       "      <th>1</th>\n",
       "      <td>10</td>\n",
       "      <td>318</td>\n",
       "      <td>51</td>\n",
       "    </tr>\n",
       "    <tr>\n",
       "      <th>2</th>\n",
       "      <td>20</td>\n",
       "      <td>58</td>\n",
       "      <td>1</td>\n",
       "    </tr>\n",
       "    <tr>\n",
       "      <th>3</th>\n",
       "      <td>33</td>\n",
       "      <td>401</td>\n",
       "      <td>1</td>\n",
       "    </tr>\n",
       "    <tr>\n",
       "      <th>4</th>\n",
       "      <td>42</td>\n",
       "      <td>235</td>\n",
       "      <td>66</td>\n",
       "    </tr>\n",
       "    <tr>\n",
       "      <th>...</th>\n",
       "      <td>...</td>\n",
       "      <td>...</td>\n",
       "      <td>...</td>\n",
       "    </tr>\n",
       "    <tr>\n",
       "      <th>1411</th>\n",
       "      <td>11965</td>\n",
       "      <td>65</td>\n",
       "      <td>1</td>\n",
       "    </tr>\n",
       "    <tr>\n",
       "      <th>1412</th>\n",
       "      <td>11967</td>\n",
       "      <td>15</td>\n",
       "      <td>7</td>\n",
       "    </tr>\n",
       "    <tr>\n",
       "      <th>1413</th>\n",
       "      <td>11969</td>\n",
       "      <td>52</td>\n",
       "      <td>21</td>\n",
       "    </tr>\n",
       "    <tr>\n",
       "      <th>1414</th>\n",
       "      <td>11975</td>\n",
       "      <td>31</td>\n",
       "      <td>43</td>\n",
       "    </tr>\n",
       "    <tr>\n",
       "      <th>1415</th>\n",
       "      <td>11988</td>\n",
       "      <td>114</td>\n",
       "      <td>4</td>\n",
       "    </tr>\n",
       "  </tbody>\n",
       "</table>\n",
       "<p>1416 rows × 3 columns</p>\n",
       "</div>"
      ],
      "text/plain": [
       "      user_id  org_id  cnt\n",
       "0           2       1    1\n",
       "1          10     318   51\n",
       "2          20      58    1\n",
       "3          33     401    1\n",
       "4          42     235   66\n",
       "...       ...     ...  ...\n",
       "1411    11965      65    1\n",
       "1412    11967      15    7\n",
       "1413    11969      52   21\n",
       "1414    11975      31   43\n",
       "1415    11988     114    4\n",
       "\n",
       "[1416 rows x 3 columns]"
      ]
     },
     "execution_count": 48,
     "metadata": {},
     "output_type": "execute_result"
    }
   ],
   "source": [
    "#print(new_df_1['user_id'].unique())\n",
    "# new_df_2 = new_df_1.sort_values(by=['user_id', 'org_id' ], inplace=True)\n",
    "new_df_2 = new_df_1\n",
    "new_df_2 = new_df_2.groupby(['user_id','org_id']).size()\n",
    "new_df_2 = new_df_2.to_frame(name = 'size').reset_index()\n",
    "new_df_2.rename(columns = {'size':'cnt'}, inplace = True)\n",
    "new_df_2"
   ]
  },
  {
   "cell_type": "code",
   "execution_count": 49,
   "id": "b34f55d7",
   "metadata": {},
   "outputs": [],
   "source": [
    "#df2['wk_1'] = df2['time_stamp'].dt.week\n",
    "#df2[ (df2['user_id'] == 1027) & (df2['wk_1'] <= 1) & (df2['yr'] == 2013) ]"
   ]
  },
  {
   "cell_type": "code",
   "execution_count": 3,
   "id": "d05c77be",
   "metadata": {},
   "outputs": [],
   "source": [
    "#elan = check_val.groupby(['org_id', 'visited']).size()\n",
    "#elan\n",
    "\n",
    "#elan = check_val.groupby(['creation_source', 'visited']).size()\n",
    "#elan\n"
   ]
  },
  {
   "cell_type": "code",
   "execution_count": 51,
   "id": "821d6a71",
   "metadata": {},
   "outputs": [
    {
     "data": {
      "text/plain": [
       "<AxesSubplot:>"
      ]
     },
     "execution_count": 51,
     "metadata": {},
     "output_type": "execute_result"
    },
    {
     "data": {
      "text/plain": [
       "<Figure size 720x360 with 0 Axes>"
      ]
     },
     "metadata": {},
     "output_type": "display_data"
    },
    {
     "data": {
      "image/png": "[encoded data removed]",
      "text/plain": [
       "<Figure size 720x360 with 1 Axes>"
      ]
     },
     "metadata": {},
     "output_type": "display_data"
    }
   ],
   "source": [
    "plt.style.use('fivethirtyeight')\n",
    "plt.figure(figsize=(10,5) )\n",
    "\n",
    "#new_df_1['user_id'].head(10).plot.bar(figsize=(10,5) , log=True)\n",
    "new_df_2.head(10).plot.bar(figsize=(10,5)  , log=True)\n"
   ]
  },
  {
   "cell_type": "code",
   "execution_count": 52,
   "id": "6e00b485",
   "metadata": {},
   "outputs": [],
   "source": [
    "user_vs_org_id = new_df_2[[\"user_id\",\"org_id\"]]\n",
    "user_vs_cnt = new_df_2[[\"user_id\",\"cnt\"]]\n",
    "org_vs_cnt = new_df_2[[\"org_id\",\"cnt\"]]"
   ]
  },
  {
   "cell_type": "code",
   "execution_count": 53,
   "id": "328eefb6",
   "metadata": {},
   "outputs": [
    {
     "data": {
      "text/plain": [
       "<AxesSubplot:>"
      ]
     },
     "execution_count": 53,
     "metadata": {},
     "output_type": "execute_result"
    },
    {
     "data": {
      "text/plain": [
       "<Figure size 720x360 with 0 Axes>"
      ]
     },
     "metadata": {},
     "output_type": "display_data"
    },
    {
     "data": {
      "image/png": "[encoded data removed]",
      "text/plain": [
       "<Figure size 720x360 with 1 Axes>"
      ]
     },
     "metadata": {},
     "output_type": "display_data"
    }
   ],
   "source": [
    "plt.style.use('fivethirtyeight')\n",
    "plt.figure(figsize=(10,5) )\n",
    "\n",
    "#new_df_1['user_id'].head(10).plot.bar(figsize=(10,5) , log=True)\n",
    "user_vs_org_id.head(20).plot.bar(figsize=(10,5)  , log=True)"
   ]
  },
  {
   "cell_type": "code",
   "execution_count": 54,
   "id": "76f6e56a",
   "metadata": {},
   "outputs": [
    {
     "data": {
      "text/plain": [
       "<AxesSubplot:>"
      ]
     },
     "execution_count": 54,
     "metadata": {},
     "output_type": "execute_result"
    },
    {
     "data": {
      "text/plain": [
       "<Figure size 720x360 with 0 Axes>"
      ]
     },
     "metadata": {},
     "output_type": "display_data"
    },
    {
     "data": {
      "image/png": "[encoded data removed]",
      "text/plain": [
       "<Figure size 720x360 with 1 Axes>"
      ]
     },
     "metadata": {},
     "output_type": "display_data"
    }
   ],
   "source": [
    "plt.style.use('fivethirtyeight')\n",
    "plt.figure(figsize=(10,5) )\n",
    "\n",
    "#new_df_1['user_id'].head(10).plot.bar(figsize=(10,5) , log=True)\n",
    "user_vs_cnt.head(20).plot.bar(figsize=(10,5)  , log=True)"
   ]
  },
  {
   "cell_type": "code",
   "execution_count": 55,
   "id": "d1a13e7c",
   "metadata": {},
   "outputs": [
    {
     "data": {
      "text/plain": [
       "<AxesSubplot:>"
      ]
     },
     "execution_count": 55,
     "metadata": {},
     "output_type": "execute_result"
    },
    {
     "data": {
      "text/plain": [
       "<Figure size 720x360 with 0 Axes>"
      ]
     },
     "metadata": {},
     "output_type": "display_data"
    },
    {
     "data": {
      "image/png": "[encoded data removed]",
      "text/plain": [
       "<Figure size 720x360 with 1 Axes>"
      ]
     },
     "metadata": {},
     "output_type": "display_data"
    }
   ],
   "source": [
    "plt.style.use('fivethirtyeight')\n",
    "plt.figure(figsize=(10,5) )\n",
    "\n",
    "#new_df_1['user_id'].head(10).plot.bar(figsize=(10,5) , log=True)\n",
    "org_vs_cnt.head(20).plot.bar(figsize=(10,5)  , log=True)"
   ]
  },
  {
   "cell_type": "code",
   "execution_count": 59,
   "id": "13f75376",
   "metadata": {},
   "outputs": [
    {
     "name": "stdout",
     "output_type": "stream",
     "text": [
      "<class 'pandas.core.frame.DataFrame'>\n",
      "Int64Index: 207917 entries, 0 to 207916\n",
      "Data columns (total 3 columns):\n",
      " #   Column           Non-Null Count   Dtype \n",
      "---  ------           --------------   ----- \n",
      " 0   user_id          207917 non-null  int64 \n",
      " 1   org_id           207917 non-null  int64 \n",
      " 2   creation_source  207917 non-null  object\n",
      "dtypes: int64(2), object(1)\n",
      "memory usage: 6.3+ MB\n",
      "<class 'pandas.core.frame.DataFrame'>\n",
      "Int64Index: 196066 entries, 0 to 196065\n",
      "Data columns (total 5 columns):\n",
      " #   Column           Non-Null Count   Dtype \n",
      "---  ------           --------------   ----- \n",
      " 0   user_id          196066 non-null  int64 \n",
      " 1   org_id_x         196066 non-null  int64 \n",
      " 2   creation_source  196066 non-null  object\n",
      " 3   org_id_y         196066 non-null  int64 \n",
      " 4   cnt              196066 non-null  int64 \n",
      "dtypes: int64(4), object(1)\n",
      "memory usage: 9.0+ MB\n"
     ]
    }
   ],
   "source": [
    "creation_source_org_id = check_val[[\"user_id\",\"org_id\",\"creation_source\"]]\n",
    "creation_source_org_id.info()\n",
    "#new_df_2\n",
    "creation_source_vs_user_org_id = pd.merge(creation_source_org_id, new_df_2, on='user_id')\n",
    "#creation_source_vs_user_org_id.info()\n",
    "#creation_source_vs_user_org_id.describe()"
   ]
  },
  {
   "cell_type": "code",
   "execution_count": 71,
   "id": "8397ff5c",
   "metadata": {},
   "outputs": [
    {
     "name": "stdout",
     "output_type": "stream",
     "text": [
      "<class 'pandas.core.frame.DataFrame'>\n",
      "RangeIndex: 5 entries, 0 to 4\n",
      "Data columns (total 2 columns):\n",
      " #   Column           Non-Null Count  Dtype \n",
      "---  ------           --------------  ----- \n",
      " 0   creation_source  5 non-null      object\n",
      " 1   cnt              5 non-null      int64 \n",
      "dtypes: int64(1), object(1)\n",
      "memory usage: 208.0+ bytes\n"
     ]
    },
    {
     "data": {
      "text/html": [
       "<div>\n",
       "<style scoped>\n",
       "    .dataframe tbody tr th:only-of-type {\n",
       "        vertical-align: middle;\n",
       "    }\n",
       "\n",
       "    .dataframe tbody tr th {\n",
       "        vertical-align: top;\n",
       "    }\n",
       "\n",
       "    .dataframe thead th {\n",
       "        text-align: right;\n",
       "    }\n",
       "</style>\n",
       "<table border=\"1\" class=\"dataframe\">\n",
       "  <thead>\n",
       "    <tr style=\"text-align: right;\">\n",
       "      <th></th>\n",
       "      <th>creation_source</th>\n",
       "      <th>cnt</th>\n",
       "    </tr>\n",
       "  </thead>\n",
       "  <tbody>\n",
       "    <tr>\n",
       "      <th>0</th>\n",
       "      <td>GUEST_INVITE</td>\n",
       "      <td>44513</td>\n",
       "    </tr>\n",
       "    <tr>\n",
       "      <th>1</th>\n",
       "      <td>ORG_INVITE</td>\n",
       "      <td>65654</td>\n",
       "    </tr>\n",
       "    <tr>\n",
       "      <th>2</th>\n",
       "      <td>PERSONAL_PROJECTS</td>\n",
       "      <td>18126</td>\n",
       "    </tr>\n",
       "    <tr>\n",
       "      <th>3</th>\n",
       "      <td>SIGNUP</td>\n",
       "      <td>35272</td>\n",
       "    </tr>\n",
       "    <tr>\n",
       "      <th>4</th>\n",
       "      <td>SIGNUP_GOOGLE_AUTH</td>\n",
       "      <td>32501</td>\n",
       "    </tr>\n",
       "  </tbody>\n",
       "</table>\n",
       "</div>"
      ],
      "text/plain": [
       "      creation_source    cnt\n",
       "0        GUEST_INVITE  44513\n",
       "1          ORG_INVITE  65654\n",
       "2   PERSONAL_PROJECTS  18126\n",
       "3              SIGNUP  35272\n",
       "4  SIGNUP_GOOGLE_AUTH  32501"
      ]
     },
     "execution_count": 71,
     "metadata": {},
     "output_type": "execute_result"
    }
   ],
   "source": [
    "cr_src_vs_user_org_id = creation_source_vs_user_org_id[[\"user_id\",\"org_id_x\",\"creation_source\"]]\n",
    "\n",
    "cr_src_vs_user_org_id_grp = cr_src_vs_user_org_id.groupby(['creation_source']).size()\n",
    "cr_src_vs_user_org_id_grp = cr_src_vs_user_org_id_grp.to_frame(name = 'size').reset_index()\n",
    "cr_src_vs_user_org_id_grp.rename(columns = {'size':'cnt'}, inplace = True)\n",
    "\n",
    "#cr_src_vs_user_org_id_rm_dup = cr_src_vs_user_org_id[cr_src_vs_user_org_id.duplicated(keep='first')]\n",
    "#cr_src_vs_user_org_id_rm_dup = cr_src_vs_user_org_id_rm_dup.drop_duplicates()\n",
    "#cr_src_vs_user_org_id_rm_dup.info()\n",
    "cr_src_vs_user_org_id_grp.info()\n",
    "cr_src_vs_user_org_id_grp\n"
   ]
  },
  {
   "cell_type": "code",
   "execution_count": 81,
   "id": "f1e24cbd",
   "metadata": {},
   "outputs": [
    {
     "data": {
      "image/png": "[encoded data removed]",
      "text/plain": [
       "<Figure size 720x360 with 1 Axes>"
      ]
     },
     "metadata": {},
     "output_type": "display_data"
    }
   ],
   "source": [
    "y = np.array(cr_src_vs_user_org_id_grp['cnt'])\n",
    "mylabels = np.array(cr_src_vs_user_org_id_grp['creation_source'])\n",
    "plt.style.use('fivethirtyeight')\n",
    "plt.figure(figsize=(10,5) )\n",
    "\n",
    "#new_df_1['user_id'].head(10).plot.bar(figsize=(10,5) , log=True)\n",
    "# cr_src_vs_user_org_id_grp.head(20).plot.pie(figsize=(10,5)  , log=True)\n",
    "plt.pie(y,labels =mylabels)\n",
    "plt.show()"
   ]
  },
  {
   "cell_type": "code",
   "execution_count": null,
   "id": "233d7726",
   "metadata": {},
   "outputs": [],
   "source": []
  }
 ],
 "metadata": {
  "kernelspec": {
   "display_name": "Python 3 (ipykernel)",
   "language": "python",
   "name": "python3"
  },
  "language_info": {
   "codemirror_mode": {
    "name": "ipython",
    "version": 3
   },
   "file_extension": ".py",
   "mimetype": "text/x-python",
   "name": "python",
   "nbconvert_exporter": "python",
   "pygments_lexer": "ipython3",
   "version": "3.10.4"
  }
 },
 "nbformat": 4,
 "nbformat_minor": 5
}
