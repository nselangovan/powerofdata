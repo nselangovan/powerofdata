{
 "cells": [
  {
   "cell_type": "code",
   "execution_count": 1,
   "id": "f4132e68",
   "metadata": {},
   "outputs": [],
   "source": [
    "import pandas as pd\n",
    "import numpy as np\n",
    "import datetime\n",
    "import sqlite3\n",
    "#dat = sqlite3.connect('ds22_guvi_task5_elan.db')"
   ]
  },
  {
   "cell_type": "code",
   "execution_count": 2,
   "id": "c44a427d",
   "metadata": {},
   "outputs": [],
   "source": [
    "df1 = pd.read_csv(\"takehome_users.csv\" ,encoding='ISO-8859-1')\n",
    "df1.rename(columns = {'object_id':'user_id'}, inplace = True)\n",
    "\n",
    "df1.to_sql(name='T1', con=dat)\n",
    "\n",
    "df2 = pd.read_csv(\"takehome_user_engagement.csv\" ,encoding='ascii')\n",
    "\n",
    "df2.to_sql(name='T2', con=dat)"
   ]
  },
  {
   "cell_type": "code",
   "execution_count": 3,
   "id": "b176791e",
   "metadata": {},
   "outputs": [
    {
     "name": "stdout",
     "output_type": "stream",
     "text": [
      "<class 'pandas.core.frame.DataFrame'>\n",
      "RangeIndex: 12000 entries, 0 to 11999\n",
      "Data columns (total 10 columns):\n",
      " #   Column                      Non-Null Count  Dtype  \n",
      "---  ------                      --------------  -----  \n",
      " 0   user_id                     12000 non-null  int64  \n",
      " 1   creation_time               12000 non-null  object \n",
      " 2   name                        12000 non-null  object \n",
      " 3   email                       12000 non-null  object \n",
      " 4   creation_source             12000 non-null  object \n",
      " 5   last_session_creation_time  8823 non-null   float64\n",
      " 6   opted_in_to_mailing_list    12000 non-null  int64  \n",
      " 7   enabled_for_marketing_drip  12000 non-null  int64  \n",
      " 8   org_id                      12000 non-null  int64  \n",
      " 9   invited_by_user_id          6417 non-null   float64\n",
      "dtypes: float64(2), int64(4), object(4)\n",
      "memory usage: 937.6+ KB\n"
     ]
    }
   ],
   "source": [
    "df1.info()"
   ]
  },
  {
   "cell_type": "code",
   "execution_count": 19,
   "id": "a0fc6ca3",
   "metadata": {},
   "outputs": [
    {
     "data": {
      "text/plain": [
       "12000"
      ]
     },
     "execution_count": 19,
     "metadata": {},
     "output_type": "execute_result"
    }
   ],
   "source": []
  },
  {
   "cell_type": "code",
   "execution_count": 5,
   "id": "56d6ecd4",
   "metadata": {},
   "outputs": [],
   "source": [
    "#pre =pd.merge(df1,df2,on='inner')\n",
    "check_val = pd.merge(df1, df2, on='user_id')"
   ]
  },
  {
   "cell_type": "code",
   "execution_count": 6,
   "id": "2b54f9ce",
   "metadata": {},
   "outputs": [
    {
     "name": "stdout",
     "output_type": "stream",
     "text": [
      "<class 'pandas.core.frame.DataFrame'>\n",
      "Int64Index: 207917 entries, 0 to 207916\n",
      "Data columns (total 12 columns):\n",
      " #   Column                      Non-Null Count   Dtype  \n",
      "---  ------                      --------------   -----  \n",
      " 0   user_id                     207917 non-null  int64  \n",
      " 1   creation_time               207917 non-null  object \n",
      " 2   name                        207917 non-null  object \n",
      " 3   email                       207917 non-null  object \n",
      " 4   creation_source             207917 non-null  object \n",
      " 5   last_session_creation_time  207917 non-null  float64\n",
      " 6   opted_in_to_mailing_list    207917 non-null  int64  \n",
      " 7   enabled_for_marketing_drip  207917 non-null  int64  \n",
      " 8   org_id                      207917 non-null  int64  \n",
      " 9   invited_by_user_id          116887 non-null  float64\n",
      " 10  time_stamp                  207917 non-null  object \n",
      " 11  visited                     207917 non-null  int64  \n",
      "dtypes: float64(2), int64(5), object(5)\n",
      "memory usage: 20.6+ MB\n"
     ]
    }
   ],
   "source": [
    "check_val.info()"
   ]
  },
  {
   "cell_type": "code",
   "execution_count": 24,
   "id": "fa4a4cf7",
   "metadata": {},
   "outputs": [
    {
     "data": {
      "text/plain": [
       "207917"
      ]
     },
     "execution_count": 24,
     "metadata": {},
     "output_type": "execute_result"
    }
   ],
   "source": [
    "check_val.to_sql(name='T3', con=dat)"
   ]
  },
  {
   "cell_type": "code",
   "execution_count": 27,
   "id": "d93de834",
   "metadata": {},
   "outputs": [],
   "source": [
    "\"\"\"\n",
    "a = []\n",
    "c = dat.cursor()\n",
    "c.execute(\"select count(1) from T1 \") \n",
    "for i in c.fetchall():\n",
    "   a.append(str(i))\n",
    "c = dat.cursor()\n",
    "c.execute(\"CREATE TABLE T4(time_stamp date,user_id integer,visited integer) \")\n",
    "#c = dat.cursor()\n",
    "c.execute(\"insert into T4 select cast(time_stamp as date) time_stamp, user_id , visited from T2\")\n",
    "#c.execute(\"DROP TABLE T4\") \n",
    "\n",
    "query = dat.execute(\"SELECT * From T4\")\n",
    "cols = [column[0] for column in query.description]\n",
    "results= pd.DataFrame.from_records(data = query.fetchall(), columns = cols)\n",
    "results\n",
    "\"\"\"\n",
    "\n",
    "#query = dat.execute(ex1)\n",
    "#cols = [column[0] for column in query.description]\n",
    "#results= pd.DataFrame.from_records(data = query.fetchall(), columns = cols)\n",
    "\n",
    "'''\n",
    "t = '2018-09-19'\n",
    "t = np.datetime64(t)\n",
    "day = t.astype(datetime.datetime).is\n",
    "print (day)\n",
    "'''\n"
   ]
  },
  {
   "cell_type": "code",
   "execution_count": 19,
   "id": "99bca141",
   "metadata": {},
   "outputs": [],
   "source": [
    "# check_val['dt'] = np.datetime64(check_val ['time_stamp'])\n",
    "check_val['date'] = check_val['time_stamp'].astype('datetime64')\n",
    "# check_val['wk'] = check_val['date'].dt.week\n",
    "check_val['wk'] = check_val['date'].dt.isocalendar().week\n",
    "check_val['yr'] = check_val['date'].dt.isocalendar().year\n",
    "check_val['mn'] = check_val['date'].dt.month"
   ]
  },
  {
   "cell_type": "code",
   "execution_count": 22,
   "id": "117c0a38",
   "metadata": {},
   "outputs": [
    {
     "name": "stdout",
     "output_type": "stream",
     "text": [
      "<class 'pandas.core.frame.DataFrame'>\n",
      "Int64Index: 207917 entries, 0 to 207916\n",
      "Data columns (total 13 columns):\n",
      " #   Column                      Non-Null Count   Dtype         \n",
      "---  ------                      --------------   -----         \n",
      " 0   user_id                     207917 non-null  int64         \n",
      " 1   creation_time               207917 non-null  object        \n",
      " 2   name                        207917 non-null  object        \n",
      " 3   email                       207917 non-null  object        \n",
      " 4   creation_source             207917 non-null  object        \n",
      " 5   last_session_creation_time  207917 non-null  float64       \n",
      " 6   opted_in_to_mailing_list    207917 non-null  int64         \n",
      " 7   enabled_for_marketing_drip  207917 non-null  int64         \n",
      " 8   org_id                      207917 non-null  int64         \n",
      " 9   invited_by_user_id          116887 non-null  float64       \n",
      " 10  time_stamp                  207917 non-null  object        \n",
      " 11  visited                     207917 non-null  int64         \n",
      " 12  date                        207917 non-null  datetime64[ns]\n",
      "dtypes: datetime64[ns](1), float64(2), int64(5), object(5)\n",
      "memory usage: 22.2+ MB\n"
     ]
    }
   ],
   "source": [
    "#check_val.info()\n",
    "#check_val.count()\n",
    "#check_val.describe()"
   ]
  },
  {
   "cell_type": "code",
   "execution_count": 44,
   "id": "3af214fc",
   "metadata": {},
   "outputs": [],
   "source": [
    "#c=check_val.groupby(by=['user_id','yr' , 'wk' , 'visited'], as_index=False).count()\n",
    "# a = check_val.groupby('user_id','yr' , 'wk','visited' )['visited'].count()"
   ]
  },
  {
   "cell_type": "code",
   "execution_count": 67,
   "id": "7031ea92",
   "metadata": {},
   "outputs": [],
   "source": [
    "count_series = check_val.groupby(['user_id','org_id','yr' ,'mn', 'wk' , 'visited']).size()"
   ]
  },
  {
   "cell_type": "code",
   "execution_count": 68,
   "id": "ce65282c",
   "metadata": {},
   "outputs": [],
   "source": [
    "new_df = count_series.to_frame(name = 'size').reset_index()"
   ]
  },
  {
   "cell_type": "code",
   "execution_count": 74,
   "id": "8d392be4",
   "metadata": {},
   "outputs": [],
   "source": [
    "new_df_1 = new_df[new_df['size'] >= 3]"
   ]
  },
  {
   "cell_type": "code",
   "execution_count": 76,
   "id": "5240fede",
   "metadata": {},
   "outputs": [],
   "source": [
    "#new_df_2 = new_df_1.sort_values(by=['user_id', 'org_id' , 'size' ], inplace=True)"
   ]
  },
  {
   "cell_type": "code",
   "execution_count": 77,
   "id": "c9388288",
   "metadata": {},
   "outputs": [
    {
     "name": "stdout",
     "output_type": "stream",
     "text": [
      "<class 'pandas.core.frame.DataFrame'>\n",
      "Int64Index: 32754 entries, 6 to 75916\n",
      "Data columns (total 7 columns):\n",
      " #   Column   Non-Null Count  Dtype \n",
      "---  ------   --------------  ----- \n",
      " 0   user_id  32754 non-null  int64 \n",
      " 1   org_id   32754 non-null  int64 \n",
      " 2   yr       32754 non-null  UInt32\n",
      " 3   mn       32754 non-null  int64 \n",
      " 4   wk       32754 non-null  UInt32\n",
      " 5   visited  32754 non-null  int64 \n",
      " 6   size     32754 non-null  int64 \n",
      "dtypes: UInt32(2), int64(5)\n",
      "memory usage: 1.8 MB\n"
     ]
    }
   ],
   "source": [
    "new_df_1.info()"
   ]
  },
  {
   "cell_type": "code",
   "execution_count": null,
   "id": "514394bf",
   "metadata": {},
   "outputs": [],
   "source": []
  }
 ],
 "metadata": {
  "kernelspec": {
   "display_name": "Python 3 (ipykernel)",
   "language": "python",
   "name": "python3"
  },
  "language_info": {
   "codemirror_mode": {
    "name": "ipython",
    "version": 3
   },
   "file_extension": ".py",
   "mimetype": "text/x-python",
   "name": "python",
   "nbconvert_exporter": "python",
   "pygments_lexer": "ipython3",
   "version": "3.10.4"
  }
 },
 "nbformat": 4,
 "nbformat_minor": 5
}
