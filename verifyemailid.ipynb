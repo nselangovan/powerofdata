{
 "cells": [
  {
   "cell_type": "code",
   "execution_count": 1,
   "metadata": {},
   "outputs": [],
   "source": [
    "import time \n",
    "from IPython.display import clear_output\n",
    "import re\n"
   ]
  },
  {
   "cell_type": "code",
   "execution_count": 63,
   "metadata": {},
   "outputs": [],
   "source": [
    "def save(email,password):\n",
    "    with open(\"register.txt\", \"a\") as file1:\n",
    "        file1.write(email)\n",
    "        file1.write(\" \")\n",
    "        file1.write(password)\n",
    "        file1.write(\" \")\n",
    "\n"
   ]
  },
  {
   "cell_type": "code",
   "execution_count": 64,
   "metadata": {},
   "outputs": [],
   "source": [
    "def user_data():\n",
    "    with open(\"register.txt\", \"r\") as file1:\n",
    "        return file1.read().split(\" \")"
   ]
  },
  {
   "cell_type": "code",
   "execution_count": 65,
   "metadata": {},
   "outputs": [],
   "source": [
    "with open(\"myfile.txt\", \"r\") as file1:\n",
    "    a=file1.read()"
   ]
  },
  {
   "cell_type": "code",
   "execution_count": 66,
   "metadata": {},
   "outputs": [],
   "source": [
    "def welcome():\n",
    "    file1=open(\"register.txt\", \"a\")\n",
    "    file1.close()\n",
    "    clear_output()\n",
    "    print(\"Welcome\")\n",
    "    print(\"1.)login\")\n",
    "    print(\"2.)Register\")\n",
    "    i=input(\"enter selection:\")\n",
    "    if i=='1':\n",
    "        login()\n",
    "    elif i=='2':\n",
    "        register()\n",
    "    else:\n",
    "        clear_output()\n",
    "        print(\"not valid\")\n",
    "        time.sleep(2)\n",
    "        welcome()\n",
    "        \n",
    "    "
   ]
  },
  {
   "cell_type": "code",
   "execution_count": 67,
   "metadata": {},
   "outputs": [],
   "source": [
    "def check(email):\n",
    "    regex = '^[a-z0-9]+[\\._]?[a-z0-9]+[@]\\w+[.]\\w{2,3}$'  \n",
    "    \n",
    "    if(re.fullmatch(regex, email)):\n",
    "        return True\n",
    " \n",
    "    else:\n",
    "        return False"
   ]
  },
  {
   "cell_type": "code",
   "execution_count": 68,
   "metadata": {},
   "outputs": [],
   "source": [
    "def check_password(password):\n",
    "    regex = '^(?=.*[a-z])(?=.*[A-Z])(?=.*\\d)(?=.*[@$!%*#?&])[A-Za-z\\d@$!#%*?&]{6,20}$'\n",
    "    \n",
    "    if(re.fullmatch(regex, password)):\n",
    "        return True\n",
    " \n",
    "    else:\n",
    "        return False"
   ]
  },
  {
   "cell_type": "code",
   "execution_count": 69,
   "metadata": {},
   "outputs": [],
   "source": [
    "def reg_pass(email):\n",
    "    clear_output()\n",
    "    print(\"Registeration\")\n",
    "    pass1=input(\"Enter a password: \")\n",
    "    clear_output()\n",
    "    if check_password(pass1):\n",
    "        pass2=input(\"Confirm your password: \")\n",
    "        if pass1==pass2:\n",
    "            save(email,pass1)\n",
    "            clear_output()\n",
    "            print(\"Registeration Sucessfull\")\n",
    "        else:\n",
    "            clear_output()\n",
    "            print(\"passwords do not match\")\n",
    "            time.sleep(2)\n",
    "            reg_pass(email)\n",
    "    else:\n",
    "        print(\"It must contain at least five characters and (lowercase, uppercase, numbers, punctuation)\")\n",
    "        reg_pass(email)\n",
    "        \n",
    "        \n",
    "    \n",
    "    "
   ]
  },
  {
   "cell_type": "code",
   "execution_count": 70,
   "metadata": {},
   "outputs": [],
   "source": [
    "def check_pass(email,password,data):\n",
    "    if data[(data.index(email)+1)]==password:\n",
    "        return True\n",
    "    else:\n",
    "        return False"
   ]
  },
  {
   "cell_type": "code",
   "execution_count": 71,
   "metadata": {},
   "outputs": [],
   "source": [
    "def register():\n",
    "    data=user_data()\n",
    "    clear_output()\n",
    "    print(\"Registeration\")\n",
    "    email=input(\"enter your mail id: \")\n",
    "    if check(email):\n",
    "        if email in data:\n",
    "            print(\"email id alrady exits\")\n",
    "            time.sleep(2)\n",
    "            clear_output()\n",
    "            register()\n",
    "        else:\n",
    "            reg_pass(email)\n",
    "    else:\n",
    "        print(\"not valid email\")\n",
    "        time.sleep(2)\n",
    "        clear_output()\n",
    "        register()"
   ]
  },
  {
   "cell_type": "code",
   "execution_count": 72,
   "metadata": {},
   "outputs": [],
   "source": [
    "def login_success(email):\n",
    "    clear_output()\n",
    "    print(f\"welcome {email}\")"
   ]
  },
  {
   "cell_type": "code",
   "execution_count": 73,
   "metadata": {},
   "outputs": [],
   "source": [
    "def login():\n",
    "    data=user_data()\n",
    "    clear_output()\n",
    "    print(\"login\")\n",
    "    email=input(\"enter your mail id: \")\n",
    "    if check(email):\n",
    "        if email in data:\n",
    "            clear_output()\n",
    "            print(f\"email: {email}\")\n",
    "            password=input(\"enter password: \")\n",
    "            if check_pass(email,password,data):\n",
    "                login_success(email)\n",
    "            else:\n",
    "                clear_output()\n",
    "                print(\"worng password\")\n",
    "                time.sleep(2)\n",
    "                login()\n",
    "                \n",
    "        else:\n",
    "            print(\"email-id does not exits\")\n",
    "            time.sleep(2)\n",
    "            clear_output()\n",
    "            welcome()\n",
    "    else:\n",
    "        print(\"not valid email\")\n",
    "        time.sleep(2)\n",
    "        clear_output()\n",
    "        login()\n",
    "    "
   ]
  },
  {
   "cell_type": "code",
   "execution_count": null,
   "metadata": {},
   "outputs": [
    {
     "name": "stdout",
     "output_type": "stream",
     "text": [
      "Welcome\n",
      "1.)login\n",
      "2.)Register\n"
     ]
    }
   ],
   "source": [
    "welcome()"
   ]
  },
  {
   "cell_type": "code",
   "execution_count": null,
   "metadata": {},
   "outputs": [],
   "source": []
  },
  {
   "cell_type": "code",
   "execution_count": null,
   "metadata": {},
   "outputs": [],
   "source": []
  },
  {
   "cell_type": "code",
   "execution_count": null,
   "metadata": {},
   "outputs": [],
   "source": []
  }
 ],
 "metadata": {
  "kernelspec": {
   "display_name": "Python 3 (ipykernel)",
   "language": "python",
   "name": "python3"
  },
  "language_info": {
   "codemirror_mode": {
    "name": "ipython",
    "version": 3
   },
   "file_extension": ".py",
   "mimetype": "text/x-python",
   "name": "python",
   "nbconvert_exporter": "python",
   "pygments_lexer": "ipython3",
   "version": "3.10.4"
  }
 },
 "nbformat": 4,
 "nbformat_minor": 4
}
